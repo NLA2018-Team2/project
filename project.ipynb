{
 "cells": [
  {
   "cell_type": "code",
   "execution_count": 5,
   "metadata": {},
   "outputs": [],
   "source": [
    "#with open(r\"news_0_300_2.bin\", \"rb\") as f:\n",
    "#    vectores = f.read()\n",
    "        "
   ]
  },
  {
   "cell_type": "code",
   "execution_count": 28,
   "metadata": {},
   "outputs": [],
   "source": [
    "with open('ruscorpora_upos_skipgram_300_5_2018.vec', encoding='utf-8') as f: #НКРЯ\n",
    "    lines = f.readlines()"
   ]
  },
  {
   "cell_type": "code",
   "execution_count": 29,
   "metadata": {},
   "outputs": [
    {
     "data": {
      "text/plain": [
       "195072"
      ]
     },
     "execution_count": 29,
     "metadata": {},
     "output_type": "execute_result"
    }
   ],
   "source": [
    "len(lines)"
   ]
  },
  {
   "cell_type": "code",
   "execution_count": 61,
   "metadata": {},
   "outputs": [
    {
     "data": {
      "text/plain": [
       "301"
      ]
     },
     "execution_count": 61,
     "metadata": {},
     "output_type": "execute_result"
    }
   ],
   "source": [
    "len(lines[10].split())"
   ]
  },
  {
   "cell_type": "code",
   "execution_count": 30,
   "metadata": {},
   "outputs": [
    {
     "data": {
      "text/plain": [
       "'самый_ADJ 0.025079 0.009604 0.013054 0.091902 0.023336 -0.011569 0.021876 -0.021861 -0.126836 0.010479 -0.015957 -0.082398 0.024110 0.036226 0.055787 -0.045762 0.127345 -0.044893 0.059016 -0.040686 0.055058 -0.048654 -0.101892 -0.006459 -0.014031 -0.099471 0.041854 -0.141021 -0.085141 -0.065855 -0.039711 0.014697 -0.044900 0.037260 -0.108848 0.112243 0.018223 -0.086836 0.024476 0.115713 0.056492 0.064191 -0.003348 0.069250 0.049200 -0.076793 0.090253 -0.062914 0.020435 -0.078086 -0.017944 0.104103 0.027111 -0.058028 0.001862 0.010622 0.027744 -0.008368 -0.042689 -0.016448 -0.045289 0.008422 -0.060038 0.065562 -0.009644 -0.153754 0.129936 -0.064181 -0.030110 0.132179 -0.143709 -0.072943 0.014436 0.004676 0.025420 -0.064474 0.015054 0.015370 0.043522 0.033964 0.098297 0.127453 -0.007863 -0.023444 0.039410 -0.029944 -0.017899 -0.010531 -0.054708 0.042787 0.030037 0.043100 -0.122886 -0.077032 0.068674 -0.035136 -0.052920 -0.003404 0.001584 -0.083801 0.085360 0.108487 0.028873 0.105646 0.016376 0.012874 0.055341 0.001806 -0.052905 0.010777 0.064080 0.034089 -0.003739 0.009158 -0.021304 -0.051984 0.020066 0.023870 0.065453 0.035720 -0.032979 -0.017438 -0.013068 -0.083331 -0.034256 0.197665 0.020070 0.078332 -0.060784 -0.056055 0.067040 0.082844 -0.048647 -0.016586 0.021485 -0.016815 0.017638 -0.087843 -0.007523 -0.043607 0.004286 -0.067637 0.040432 0.028813 -0.022196 0.039545 -0.023558 0.005673 0.059839 0.068134 -0.052864 -0.059565 -0.005257 -0.047338 0.004181 -0.048081 0.071187 0.003938 0.032255 -0.031485 0.050100 -0.042266 0.034732 -0.023178 -0.023641 -0.010811 0.007775 0.036389 0.009989 -0.035435 -0.036930 0.015892 0.003722 0.050751 0.010803 0.045057 0.051922 -0.049102 -0.025206 -0.058311 0.126198 0.017473 0.021771 0.026675 -0.059673 0.117939 0.041224 0.031790 0.053532 -0.024913 -0.064421 -0.052469 -0.003571 0.026452 0.080288 -0.017157 -0.001467 -0.042745 0.042903 0.022924 0.030399 -0.007454 -0.113085 -0.066025 -0.067733 -0.101246 -0.076541 -0.101428 -0.024491 0.029789 0.085268 -0.158848 -0.054357 0.044638 -0.022323 -0.046374 0.061528 0.031456 -0.051565 -0.056297 -0.052345 -0.061250 -0.001175 -0.004886 -0.010490 0.003001 -0.043022 0.017538 -0.076470 0.016744 0.109497 -0.024253 0.056800 0.005418 0.015323 0.060723 0.055670 -0.118600 0.109242 0.080750 0.107231 0.016519 0.037122 0.074096 0.003715 -0.005645 0.077633 -0.028822 -0.002934 0.012146 0.047658 0.018003 0.044210 -0.024790 -0.085962 0.045015 -0.018938 -0.027450 0.105018 -0.009662 -0.023650 0.010859 0.032688 0.009365 0.046561 -0.017608 0.034667 0.037896 0.027206 -0.011395 -0.019579 0.038272 -0.039593 -0.020344 -0.019513 -0.077926 0.022113 0.019807 0.103453 -0.045734 -0.015185 -0.035649 -0.039779 -0.017829 0.060720 -0.068006 -0.110277 0.023847 -0.034363 0.066164 -0.060822 0.053385 -0.003954 -0.107547 -0.016252 0.077263 -0.042408 -0.064476 0.089606 0.040776\\n'"
      ]
     },
     "execution_count": 30,
     "metadata": {},
     "output_type": "execute_result"
    }
   ],
   "source": [
    "lines[10]"
   ]
  },
  {
   "cell_type": "code",
   "execution_count": 3,
   "metadata": {},
   "outputs": [],
   "source": [
    "#words = [lines[i].split()[0].split('_')[0] for i in range(1, len(lines))]"
   ]
  },
  {
   "cell_type": "code",
   "execution_count": 31,
   "metadata": {},
   "outputs": [],
   "source": [
    "words = [lines[i].split()[0] for i in range(1, len(lines))]"
   ]
  },
  {
   "cell_type": "code",
   "execution_count": 32,
   "metadata": {},
   "outputs": [
    {
     "data": {
      "text/plain": [
       "[('мочь_VERB', 1),\n",
       " ('год_NOUN', 1),\n",
       " ('xx_NUM', 1),\n",
       " ('человек_NOUN', 1),\n",
       " ('сказать_VERB', 1),\n",
       " ('говорить_VERB', 1),\n",
       " ('время_NOUN', 1),\n",
       " ('xxxx_NUM', 1),\n",
       " ('знать_VERB', 1),\n",
       " ('самый_ADJ', 1),\n",
       " ('дело_NOUN', 1),\n",
       " ('делать_VERB', 1),\n",
       " ('день_NOUN', 1),\n",
       " ('жизнь_NOUN', 1),\n",
       " ('видеть_VERB', 1),\n",
       " ('рука_NOUN', 1),\n",
       " ('очень_ADV', 1),\n",
       " ('первый_ADJ', 1),\n",
       " ('новый_ADJ', 1),\n",
       " ('давать_VERB', 1),\n",
       " ('становиться_VERB', 1),\n",
       " ('слово_NOUN', 1),\n",
       " ('должен_ADJ', 1),\n",
       " ('иметь_VERB', 1),\n",
       " ('идти_VERB', 1),\n",
       " ('xxx_NUM', 1),\n",
       " ('большой_ADJ', 1),\n",
       " ('глаз_NOUN', 1),\n",
       " ('лицо_NOUN', 1),\n",
       " ('хотеть_VERB', 1),\n",
       " ('место_NOUN', 1),\n",
       " ('понимать_VERB', 1),\n",
       " ('смотреть_VERB', 1),\n",
       " ('каждый_ADJ', 1),\n",
       " ('работа_NOUN', 1),\n",
       " ('казаться_VERB', 1),\n",
       " ('писать_VERB', 1),\n",
       " ('голова_NOUN', 1),\n",
       " ('оставаться_VERB', 1),\n",
       " ('сторона_NOUN', 1),\n",
       " ('друг_NOUN', 1),\n",
       " ('спрашивать_VERB', 1),\n",
       " ('думать_VERB', 1),\n",
       " ('брать_VERB', 1),\n",
       " ('начинать_VERB', 1),\n",
       " ('жить_VERB', 1),\n",
       " ('дом_NOUN', 1),\n",
       " ('приходить_VERB', 1),\n",
       " ('последний_ADJ', 1),\n",
       " ('получать_VERB', 1),\n",
       " ('выходить_VERB', 1),\n",
       " ('какой-то_ADJ', 1),\n",
       " ('несколько_NUM', 1),\n",
       " ('сила_NOUN', 1),\n",
       " ('хороший_ADJ', 1),\n",
       " ('стоять_VERB', 1),\n",
       " ('город_NOUN', 1),\n",
       " ('нужный_ADJ', 1),\n",
       " ('стать_VERB', 1),\n",
       " ('случай_NOUN', 1),\n",
       " ('отвечать_VERB', 1),\n",
       " ('русский_ADJ', 1),\n",
       " ('вопрос_NOUN', 1),\n",
       " ('мир_NOUN', 1),\n",
       " ('принимать_VERB', 1),\n",
       " ('вид_NOUN', 1),\n",
       " ('пойти_VERB', 1),\n",
       " ('часть_NOUN', 1),\n",
       " ('россия_PROPN', 1),\n",
       " ('конец_NOUN', 1),\n",
       " ('что-то_NOUN', 1),\n",
       " ('находить_VERB', 1),\n",
       " ('сидеть_VERB', 1),\n",
       " ('оказываться_VERB', 1),\n",
       " ('ребенок_NOUN', 1),\n",
       " ('проходить_VERB', 1),\n",
       " ('час_NOUN', 1),\n",
       " ('вода_NOUN', 1),\n",
       " ('земля_NOUN', 1),\n",
       " ('москва_PROPN', 1),\n",
       " ('являться_VERB', 1),\n",
       " ('считать_VERB', 1),\n",
       " ('образ_NOUN', 1),\n",
       " ('любить_VERB', 1),\n",
       " ('народ_NOUN', 1),\n",
       " ('нога_NOUN', 1),\n",
       " ('страна_NOUN', 1),\n",
       " ('также_ADV', 1),\n",
       " ('отец_NOUN', 1),\n",
       " ('называть_VERB', 1),\n",
       " ('отношение_NOUN', 1),\n",
       " ('голос_NOUN', 1),\n",
       " ('женщина_NOUN', 1),\n",
       " ('общий_ADJ', 1),\n",
       " ('молодой_ADJ', 1),\n",
       " ('уходить_VERB', 1),\n",
       " ('второй_ADJ', 1),\n",
       " ('приходиться_VERB', 1),\n",
       " ('душа_NOUN', 1),\n",
       " ('известный_ADJ', 1)]"
      ]
     },
     "execution_count": 32,
     "metadata": {},
     "output_type": "execute_result"
    }
   ],
   "source": [
    "from collections import Counter\n",
    "Counter(words).most_common(100)"
   ]
  },
  {
   "cell_type": "code",
   "execution_count": 205,
   "metadata": {},
   "outputs": [
    {
     "data": {
      "text/plain": [
       "True"
      ]
     },
     "execution_count": 205,
     "metadata": {},
     "output_type": "execute_result"
    }
   ],
   "source": [
    "'паспортистка_NOUN' in words"
   ]
  },
  {
   "cell_type": "code",
   "execution_count": 34,
   "metadata": {},
   "outputs": [
    {
     "data": {
      "text/plain": [
       "True"
      ]
     },
     "execution_count": 34,
     "metadata": {},
     "output_type": "execute_result"
    }
   ],
   "source": [
    "'женщина_NOUN' in words"
   ]
  },
  {
   "cell_type": "code",
   "execution_count": 36,
   "metadata": {},
   "outputs": [],
   "source": [
    "import pandas as pd\n",
    "\n",
    "df_prof = pd.read_csv('./professions.csv')"
   ]
  },
  {
   "cell_type": "code",
   "execution_count": 15,
   "metadata": {},
   "outputs": [
    {
     "data": {
      "text/plain": [
       "Index(['профессии'], dtype='object')"
      ]
     },
     "execution_count": 15,
     "metadata": {},
     "output_type": "execute_result"
    }
   ],
   "source": [
    "df_prof.columns"
   ]
  },
  {
   "cell_type": "code",
   "execution_count": 6,
   "metadata": {},
   "outputs": [
    {
     "data": {
      "text/plain": [
       "'авербандщик'"
      ]
     },
     "execution_count": 6,
     "metadata": {},
     "output_type": "execute_result"
    }
   ],
   "source": [
    "df_prof['профессии'][0]"
   ]
  },
  {
   "cell_type": "code",
   "execution_count": 37,
   "metadata": {},
   "outputs": [
    {
     "data": {
      "text/plain": [
       "'авербандщик_NOUN'"
      ]
     },
     "execution_count": 37,
     "metadata": {},
     "output_type": "execute_result"
    }
   ],
   "source": [
    "df_prof['профессии'][0] + '_NOUN'"
   ]
  },
  {
   "cell_type": "code",
   "execution_count": 43,
   "metadata": {},
   "outputs": [],
   "source": [
    "search_list = []\n",
    "for word in words:\n",
    "    for prof in set(df_prof['профессии']):\n",
    "        if word == prof + '_NOUN':\n",
    "            search_list.append(word)\n",
    "#        if len(search_list) == 300:       #когда уже набрали 300, то останавлимаемся\n",
    "#            break"
   ]
  },
  {
   "cell_type": "code",
   "execution_count": 98,
   "metadata": {},
   "outputs": [
    {
     "name": "stdout",
     "output_type": "stream",
     "text": [
      "мочь_VERB\n",
      "-0.031208 0.024294 -0.031433 -0.028102 0.037222 0.072109 0.033410 -0.018213 -0.108818 -0.060907 -0.021944 -0.090031 0.029153 -0.008518 0.070985 -0.108511 -0.033032 0.015957 -0.082347 -0.107038 -0.013014 -0.013548 0.018763 -0.011029 0.008093 -0.024506 0.009311 -0.039908 -0.002837 -0.032819 0.014589 0.090382 0.009512 0.097633 -0.117886 0.024100 0.001138 -0.092786 -0.014135 0.032051 -0.021724 0.036613 0.044640 0.099792 -0.000194 0.003439 0.004890 -0.031251 0.088276 -0.056496 -0.028148 0.092568 0.083452 0.051358 -0.061076 -0.088913 0.041691 0.017585 -0.064366 0.031739 -0.107728 0.002428 0.018052 0.035970 -0.094090 -0.092493 0.140122 0.028669 -0.015688 0.038826 -0.081751 0.023328 0.074824 0.024813 -0.058226 0.072918 -0.017737 0.091607 -0.060881 0.035606 -0.039821 0.154302 -0.069999 -0.018459 -0.046258 -0.023855 -0.094403 -0.046723 0.053720 -0.103459 0.054149 -0.060055 -0.005333 0.071900 0.002075 0.015579 -0.063547 0.045631 0.085272 -0.020093 -0.013980 0.003313 -0.004269 0.108919 -0.026448 0.077766 0.099465 -0.023750 -0.014860 -0.073148 0.021957 0.074075 -0.134271 0.088445 0.061873 -0.009602 0.001868 -0.090685 0.031618 -0.086890 0.013249 0.005492 0.029971 0.034379 0.096205 0.008167 0.000543 0.024468 -0.082728 -0.064278 0.015365 0.051049 0.006255 -0.017227 -0.024754 0.061939 0.025258 -0.103347 -0.040247 0.006002 0.036404 -0.002349 -0.024590 -0.093847 0.096597 0.013734 -0.002186 -0.103871 0.007526 0.118506 -0.022479 -0.078974 0.036730 -0.012404 0.002629 -0.096672 -0.030779 -0.064983 0.045891 -0.026962 -0.090225 -0.041348 -0.009516 -0.110168 0.012722 -0.073235 0.041005 0.047059 -0.015992 0.068434 -0.076885 -0.014534 -0.017747 -0.039325 -0.121216 -0.072462 0.060008 -0.027453 0.106764 -0.053025 0.069457 -0.039004 -0.042452 -0.014391 -0.023438 -0.030415 0.026294 0.041380 -0.080660 0.048628 0.089901 -0.069515 0.028941 0.056681 0.091222 0.000429 -0.099290 -0.084655 -0.057637 -0.033307 -0.042751 -0.061003 0.079067 0.052679 0.022407 -0.015633 -0.048475 -0.053136 -0.033541 0.060252 -0.013595 -0.112882 -0.040275 0.022675 -0.020162 0.045104 0.055369 0.064296 -0.011162 0.063497 0.054454 0.037173 -0.008911 0.067651 -0.052523 0.051767 -0.066108 0.026721 -0.011817 0.040590 0.046074 0.049083 0.042768 0.008057 0.032290 0.067018 0.039414 -0.079996 -0.031202 -0.026182 0.059067 0.055278 -0.003517 0.020043 0.043736 0.044873 0.020051 -0.015272 0.054541 0.000209 0.136593 0.018556 0.099922 -0.059689 -0.013388 0.054623 -0.003453 0.022521 0.110392 0.075258 -0.069459 -0.080986 0.019608 -0.061389 -0.059438 0.074045 0.017464 -0.037214 0.018803 0.055608 -0.020175 -0.086454 -0.083129 0.013520 0.026759 -0.003961 -0.015639 0.048827 0.022373 -0.000992 0.051819 0.073243 -0.015495 -0.097123 -0.054938 -0.004821 -0.109182 -0.014885 0.043215 0.008653 0.006873 0.053559 0.111586 -0.078923 0.035657 0.095140 0.052521 -0.088044 0.021708 -0.001099\n",
      "\n"
     ]
    }
   ],
   "source": [
    "lines_formatrix = lines[1:]\n",
    "example = lines_formatrix[0]\n",
    "split_line = example.split(' ', 1)\n",
    "example = split_line[1]\n",
    "print(split_line[0])\n",
    "print(example)\n",
    "\n"
   ]
  },
  {
   "cell_type": "code",
   "execution_count": 99,
   "metadata": {},
   "outputs": [],
   "source": [
    "words_list = []\n",
    "for i in range(len(lines_formatrix)):\n",
    "    split_line = lines_formatrix[i].split(' ', 1)\n",
    "    words_list.append(split_line[0])\n",
    "    lines_formatrix[i] = split_line[1]"
   ]
  },
  {
   "cell_type": "code",
   "execution_count": 100,
   "metadata": {},
   "outputs": [],
   "source": [
    "A = np.loadtxt(lines_formatrix)"
   ]
  },
  {
   "cell_type": "code",
   "execution_count": 102,
   "metadata": {},
   "outputs": [],
   "source": [
    "ind_prof = []\n",
    "for i in range(len(words_list)):\n",
    "    for elem in search_list:\n",
    "        if elem == words_list[i]:\n",
    "            ind_prof.append(i)"
   ]
  },
  {
   "cell_type": "code",
   "execution_count": 149,
   "metadata": {},
   "outputs": [
    {
     "data": {
      "text/plain": [
       "'начальник_NOUN'"
      ]
     },
     "execution_count": 149,
     "metadata": {},
     "output_type": "execute_result"
    }
   ],
   "source": [
    "words_list[369]"
   ]
  },
  {
   "cell_type": "code",
   "execution_count": 208,
   "metadata": {},
   "outputs": [
    {
     "ename": "MemoryError",
     "evalue": "",
     "output_type": "error",
     "traceback": [
      "\u001b[0;31m---------------------------------------------------------------------------\u001b[0m",
      "\u001b[0;31mMemoryError\u001b[0m                               Traceback (most recent call last)",
      "\u001b[0;32m<ipython-input-208-ec176c190b1e>\u001b[0m in \u001b[0;36m<module>\u001b[0;34m()\u001b[0m\n\u001b[1;32m      1\u001b[0m \u001b[0;32mimport\u001b[0m \u001b[0mscipy\u001b[0m\u001b[0;34m.\u001b[0m\u001b[0msparse\u001b[0m\u001b[0;34m\u001b[0m\u001b[0m\n\u001b[1;32m      2\u001b[0m \u001b[0;32mfrom\u001b[0m \u001b[0mscipy\u001b[0m\u001b[0;34m.\u001b[0m\u001b[0msparse\u001b[0m\u001b[0;34m.\u001b[0m\u001b[0mlinalg\u001b[0m \u001b[0;32mimport\u001b[0m \u001b[0msvds\u001b[0m\u001b[0;34m\u001b[0m\u001b[0m\n\u001b[0;32m----> 3\u001b[0;31m \u001b[0mE\u001b[0m \u001b[0;34m=\u001b[0m \u001b[0mscipy\u001b[0m\u001b[0;34m.\u001b[0m\u001b[0msparse\u001b[0m\u001b[0;34m.\u001b[0m\u001b[0mcsr_matrix\u001b[0m\u001b[0;34m(\u001b[0m\u001b[0mA\u001b[0m\u001b[0;34m)\u001b[0m\u001b[0;34m\u001b[0m\u001b[0m\n\u001b[0m\u001b[1;32m      4\u001b[0m \u001b[0mU\u001b[0m\u001b[0;34m,\u001b[0m \u001b[0mS\u001b[0m\u001b[0;34m,\u001b[0m \u001b[0mV\u001b[0m \u001b[0;34m=\u001b[0m \u001b[0msvds\u001b[0m\u001b[0;34m(\u001b[0m\u001b[0mE\u001b[0m\u001b[0;34m,\u001b[0m \u001b[0;36m5\u001b[0m\u001b[0;34m)\u001b[0m\u001b[0;34m\u001b[0m\u001b[0m\n",
      "\u001b[0;32m~/CSprogs/miniconda3/lib/python3.6/site-packages/scipy/sparse/compressed.py\u001b[0m in \u001b[0;36m__init__\u001b[0;34m(self, arg1, shape, dtype, copy)\u001b[0m\n\u001b[1;32m     77\u001b[0m                         self.format)\n\u001b[1;32m     78\u001b[0m             \u001b[0;32mfrom\u001b[0m \u001b[0;34m.\u001b[0m\u001b[0mcoo\u001b[0m \u001b[0;32mimport\u001b[0m \u001b[0mcoo_matrix\u001b[0m\u001b[0;34m\u001b[0m\u001b[0m\n\u001b[0;32m---> 79\u001b[0;31m             \u001b[0mself\u001b[0m\u001b[0;34m.\u001b[0m\u001b[0m_set_self\u001b[0m\u001b[0;34m(\u001b[0m\u001b[0mself\u001b[0m\u001b[0;34m.\u001b[0m\u001b[0m__class__\u001b[0m\u001b[0;34m(\u001b[0m\u001b[0mcoo_matrix\u001b[0m\u001b[0;34m(\u001b[0m\u001b[0marg1\u001b[0m\u001b[0;34m,\u001b[0m \u001b[0mdtype\u001b[0m\u001b[0;34m=\u001b[0m\u001b[0mdtype\u001b[0m\u001b[0;34m)\u001b[0m\u001b[0;34m)\u001b[0m\u001b[0;34m)\u001b[0m\u001b[0;34m\u001b[0m\u001b[0m\n\u001b[0m\u001b[1;32m     80\u001b[0m \u001b[0;34m\u001b[0m\u001b[0m\n\u001b[1;32m     81\u001b[0m         \u001b[0;31m# Read matrix dimensions given, if any\u001b[0m\u001b[0;34m\u001b[0m\u001b[0;34m\u001b[0m\u001b[0m\n",
      "\u001b[0;32m~/CSprogs/miniconda3/lib/python3.6/site-packages/scipy/sparse/coo.py\u001b[0m in \u001b[0;36m__init__\u001b[0;34m(self, arg1, shape, dtype, copy)\u001b[0m\n\u001b[1;32m    183\u001b[0m                     \u001b[0mself\u001b[0m\u001b[0;34m.\u001b[0m\u001b[0m_shape\u001b[0m \u001b[0;34m=\u001b[0m \u001b[0mcheck_shape\u001b[0m\u001b[0;34m(\u001b[0m\u001b[0mM\u001b[0m\u001b[0;34m.\u001b[0m\u001b[0mshape\u001b[0m\u001b[0;34m)\u001b[0m\u001b[0;34m\u001b[0m\u001b[0m\n\u001b[1;32m    184\u001b[0m \u001b[0;34m\u001b[0m\u001b[0m\n\u001b[0;32m--> 185\u001b[0;31m                 \u001b[0mself\u001b[0m\u001b[0;34m.\u001b[0m\u001b[0mrow\u001b[0m\u001b[0;34m,\u001b[0m \u001b[0mself\u001b[0m\u001b[0;34m.\u001b[0m\u001b[0mcol\u001b[0m \u001b[0;34m=\u001b[0m \u001b[0mM\u001b[0m\u001b[0;34m.\u001b[0m\u001b[0mnonzero\u001b[0m\u001b[0;34m(\u001b[0m\u001b[0;34m)\u001b[0m\u001b[0;34m\u001b[0m\u001b[0m\n\u001b[0m\u001b[1;32m    186\u001b[0m                 \u001b[0mself\u001b[0m\u001b[0;34m.\u001b[0m\u001b[0mdata\u001b[0m \u001b[0;34m=\u001b[0m \u001b[0mM\u001b[0m\u001b[0;34m[\u001b[0m\u001b[0mself\u001b[0m\u001b[0;34m.\u001b[0m\u001b[0mrow\u001b[0m\u001b[0;34m,\u001b[0m \u001b[0mself\u001b[0m\u001b[0;34m.\u001b[0m\u001b[0mcol\u001b[0m\u001b[0;34m]\u001b[0m\u001b[0;34m\u001b[0m\u001b[0m\n\u001b[1;32m    187\u001b[0m                 \u001b[0mself\u001b[0m\u001b[0;34m.\u001b[0m\u001b[0mhas_canonical_format\u001b[0m \u001b[0;34m=\u001b[0m \u001b[0;32mTrue\u001b[0m\u001b[0;34m\u001b[0m\u001b[0m\n",
      "\u001b[0;31mMemoryError\u001b[0m: "
     ]
    }
   ],
   "source": [
    "import scipy.sparse\n",
    "from scipy.sparse.linalg import svds\n",
    "E = scipy.sparse.csr_matrix(A)\n",
    "U, S, V = svds(E, 5)"
   ]
  },
  {
   "cell_type": "code",
   "execution_count": 104,
   "metadata": {},
   "outputs": [],
   "source": [
    "P = A[ind_prof,:]"
   ]
  },
  {
   "cell_type": "code",
   "execution_count": 105,
   "metadata": {},
   "outputs": [
    {
     "data": {
      "text/plain": [
       "(459, 300)"
      ]
     },
     "execution_count": 105,
     "metadata": {},
     "output_type": "execute_result"
    }
   ],
   "source": [
    "P.shape"
   ]
  },
  {
   "cell_type": "code",
   "execution_count": 79,
   "metadata": {},
   "outputs": [],
   "source": [
    "import numpy as np\n",
    "P = np.zeros((len(search_list),300))"
   ]
  },
  {
   "cell_type": "code",
   "execution_count": 59,
   "metadata": {},
   "outputs": [
    {
     "data": {
      "text/plain": [
       "['начальник_NOUN',\n",
       " 'сестра_NOUN',\n",
       " 'представитель_NOUN',\n",
       " 'глава_NOUN',\n",
       " 'художник_NOUN',\n",
       " 'врач_NOUN',\n",
       " 'министр_NOUN',\n",
       " 'командир_NOUN',\n",
       " 'директор_NOUN',\n",
       " 'капитан_NOUN']"
      ]
     },
     "execution_count": 59,
     "metadata": {},
     "output_type": "execute_result"
    }
   ],
   "source": [
    "search_list[:10]"
   ]
  },
  {
   "cell_type": "code",
   "execution_count": 44,
   "metadata": {},
   "outputs": [],
   "source": [
    "v_gender = []\n",
    "for line in lines:\n",
    "    if line.split()[0] == 'женщина_NOUN':\n",
    "        v_gender.append(line)\n",
    "    elif line.split()[0] == 'мужчина_NOUN':\n",
    "        v_gender.append(line)\n",
    "    \n",
    "        "
   ]
  },
  {
   "cell_type": "code",
   "execution_count": 110,
   "metadata": {},
   "outputs": [],
   "source": [
    "woman = np.array(list(map(float, v_gender[0].strip().split()[1:])))"
   ]
  },
  {
   "cell_type": "code",
   "execution_count": 111,
   "metadata": {},
   "outputs": [],
   "source": [
    "man = np.array(list(map(float, v_gender[1].strip().split()[1:])))"
   ]
  },
  {
   "cell_type": "code",
   "execution_count": 128,
   "metadata": {},
   "outputs": [],
   "source": [
    "projections = []\n",
    "for i in range(P.shape[0]):\n",
    "    gender_axis = (man-woman)/np.linalg.norm(man-woman)\n",
    "    proj = np.dot(P[i,:], gender_axis)\n",
    "    projections.append(proj)"
   ]
  },
  {
   "cell_type": "code",
   "execution_count": 129,
   "metadata": {},
   "outputs": [
    {
     "data": {
      "text/plain": [
       "459"
      ]
     },
     "execution_count": 129,
     "metadata": {},
     "output_type": "execute_result"
    }
   ],
   "source": [
    "len(projections)"
   ]
  },
  {
   "cell_type": "code",
   "execution_count": 130,
   "metadata": {},
   "outputs": [
    {
     "data": {
      "text/plain": [
       "(300,)"
      ]
     },
     "execution_count": 130,
     "metadata": {},
     "output_type": "execute_result"
    }
   ],
   "source": [
    "P[0,:].shape"
   ]
  },
  {
   "cell_type": "code",
   "execution_count": null,
   "metadata": {},
   "outputs": [],
   "source": [
    "proj.shape"
   ]
  },
  {
   "cell_type": "code",
   "execution_count": 188,
   "metadata": {},
   "outputs": [],
   "source": [
    "right_bound = np.mean(projections) + np.std(projections)"
   ]
  },
  {
   "cell_type": "code",
   "execution_count": 189,
   "metadata": {},
   "outputs": [],
   "source": [
    "left_bound = np.mean(projections) - np.std(projections)"
   ]
  },
  {
   "cell_type": "code",
   "execution_count": 192,
   "metadata": {},
   "outputs": [],
   "source": [
    "import matplotlib.pyplot as plt\n",
    "import seaborn as sns \n",
    "sns.set()\n",
    "%matplotlib inline\n",
    "\n",
    "#figure = sns.FacetGrid(projections)\n",
    "#figure.map(sns.kdeplot, 'amplitude', shade = True).add_legend()\n",
    "#figure.set()"
   ]
  },
  {
   "cell_type": "code",
   "execution_count": 131,
   "metadata": {},
   "outputs": [
    {
     "data": {
      "text/plain": [
       "0.038886855523494405"
      ]
     },
     "execution_count": 131,
     "metadata": {},
     "output_type": "execute_result"
    }
   ],
   "source": [
    "projections[0]"
   ]
  },
  {
   "cell_type": "code",
   "execution_count": 203,
   "metadata": {},
   "outputs": [],
   "source": [
    "ind_var = []\n",
    "for i in range(len(projections)):\n",
    "    if (projections[i] > right_bound or projections[i] < left_bound):\n",
    "#    if projections[i] > right_bound:\n",
    "        ind_var.append(i)"
   ]
  },
  {
   "cell_type": "code",
   "execution_count": 198,
   "metadata": {},
   "outputs": [],
   "source": [
    "with open('professions_for_selection','w',encoding = 'utf-8') as of:\n",
    "    for i in ind_var:\n",
    "        of.write(search_list[i] + '\\n')\n",
    "    of.close()"
   ]
  },
  {
   "cell_type": "code",
   "execution_count": 221,
   "metadata": {},
   "outputs": [],
   "source": [
    "with open('professions_after_selection','r') as of:\n",
    "    slist_rev = of.readlines()"
   ]
  },
  {
   "cell_type": "code",
   "execution_count": 224,
   "metadata": {},
   "outputs": [],
   "source": [
    "for i in range(len(slist_rev)):\n",
    "    slist_rev[i] = slist_rev[i].strip()"
   ]
  },
  {
   "cell_type": "code",
   "execution_count": 226,
   "metadata": {},
   "outputs": [],
   "source": [
    "ind_prof_rev = []                          #чтобы достать индексы профессий уже отобранных, тот же код здесь!\n",
    "for i in range(len(words_list)):\n",
    "    for elem in slist_rev:\n",
    "        if elem == words_list[i]:\n",
    "            ind_prof_rev.append(i)"
   ]
  },
  {
   "cell_type": "code",
   "execution_count": 227,
   "metadata": {},
   "outputs": [],
   "source": [
    "P_rev = A[ind_prof_rev,:]"
   ]
  },
  {
   "cell_type": "code",
   "execution_count": 228,
   "metadata": {},
   "outputs": [
    {
     "data": {
      "text/plain": [
       "(62, 300)"
      ]
     },
     "execution_count": 228,
     "metadata": {},
     "output_type": "execute_result"
    }
   ],
   "source": [
    "P_rev.shape"
   ]
  },
  {
   "cell_type": "code",
   "execution_count": null,
   "metadata": {},
   "outputs": [],
   "source": []
  },
  {
   "cell_type": "code",
   "execution_count": 229,
   "metadata": {},
   "outputs": [],
   "source": [
    "E = np.delete(A, ind_prof_rev, axis=0)"
   ]
  },
  {
   "cell_type": "code",
   "execution_count": 230,
   "metadata": {},
   "outputs": [
    {
     "data": {
      "text/plain": [
       "(195009, 300)"
      ]
     },
     "execution_count": 230,
     "metadata": {},
     "output_type": "execute_result"
    }
   ],
   "source": [
    "E.shape"
   ]
  },
  {
   "cell_type": "code",
   "execution_count": 150,
   "metadata": {},
   "outputs": [
    {
     "data": {
      "text/plain": [
       "'сестра_NOUN'"
      ]
     },
     "execution_count": 150,
     "metadata": {},
     "output_type": "execute_result"
    }
   ],
   "source": [
    "search_list[1]"
   ]
  },
  {
   "cell_type": "code",
   "execution_count": 195,
   "metadata": {},
   "outputs": [
    {
     "data": {
      "text/plain": [
       "139"
      ]
     },
     "execution_count": 195,
     "metadata": {},
     "output_type": "execute_result"
    }
   ],
   "source": [
    "len(ind_var)"
   ]
  },
  {
   "cell_type": "code",
   "execution_count": 134,
   "metadata": {},
   "outputs": [
    {
     "data": {
      "text/plain": [
       "2.067523372183827e-05"
      ]
     },
     "execution_count": 134,
     "metadata": {},
     "output_type": "execute_result"
    }
   ],
   "source": [
    "np.median(projections)"
   ]
  }
 ],
 "metadata": {
  "kernelspec": {
   "display_name": "Python 3",
   "language": "python",
   "name": "python3"
  },
  "language_info": {
   "codemirror_mode": {
    "name": "ipython",
    "version": 3
   },
   "file_extension": ".py",
   "mimetype": "text/x-python",
   "name": "python",
   "nbconvert_exporter": "python",
   "pygments_lexer": "ipython3",
   "version": "3.6.6"
  }
 },
 "nbformat": 4,
 "nbformat_minor": 2
}
