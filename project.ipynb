{
 "cells": [
  {
   "cell_type": "code",
   "execution_count": 1,
   "metadata": {},
   "outputs": [],
   "source": [
    "import numpy as np\n",
    "import pandas as pd\n",
    "import pickle\n",
    "import cvxpy as cp\n",
    "\n",
    "import matplotlib.pyplot as plt\n",
    "import seaborn as sns \n",
    "sns.set()\n",
    "%matplotlib inline"
   ]
  },
  {
   "cell_type": "code",
   "execution_count": 2,
   "metadata": {},
   "outputs": [],
   "source": [
    "# open and read file\n",
    "with open('ruscorpora_upos_skipgram_300_5_2018.vec', encoding='utf-8') as f: #НКРЯ\n",
    "    lines = f.readlines()"
   ]
  },
  {
   "cell_type": "code",
   "execution_count": 3,
   "metadata": {},
   "outputs": [
    {
     "data": {
      "text/plain": [
       "195072"
      ]
     },
     "execution_count": 3,
     "metadata": {},
     "output_type": "execute_result"
    }
   ],
   "source": [
    "#check length of file \n",
    "len(lines)"
   ]
  },
  {
   "cell_type": "code",
   "execution_count": 4,
   "metadata": {},
   "outputs": [],
   "source": [
    "# get the list of words in the word embeddings\n",
    "words = [lines[i].split()[0] for i in range(1, len(lines))]"
   ]
  },
  {
   "cell_type": "code",
   "execution_count": 5,
   "metadata": {},
   "outputs": [],
   "source": [
    "# read file of chosen professions (\"ГАРАНТ system\")\n",
    "\n",
    "df_prof = pd.read_csv('./professions.csv')"
   ]
  },
  {
   "cell_type": "code",
   "execution_count": 6,
   "metadata": {},
   "outputs": [],
   "source": [
    "# full list of professions which we found in our corpus (professions for which we have word embeddings)\n",
    "professions_list = []\n",
    "for word in words:\n",
    "    for prof in set(df_prof['профессии']):\n",
    "        if word == prof + '_NOUN':\n",
    "            professions_list.append(word)"
   ]
  },
  {
   "cell_type": "code",
   "execution_count": 7,
   "metadata": {},
   "outputs": [],
   "source": [
    "# need to make a matrix out of the list of strings\n",
    "\n",
    "lines_formatrix = lines[1:]\n",
    "words_list = []\n",
    "for i in range(len(lines_formatrix)):\n",
    "    split_line = lines_formatrix[i].split(' ', 1)\n",
    "    words_list.append(split_line[0])\n",
    "    lines_formatrix[i] = split_line[1]\n",
    "    \n",
    "E = np.loadtxt(lines_formatrix)       #it is a matrix with all word embeddings from our model RNC "
   ]
  },
  {
   "cell_type": "code",
   "execution_count": 8,
   "metadata": {},
   "outputs": [],
   "source": [
    "# find the indexes of the profession (from the professions.csv) in the word embedding matrix\n",
    "ind_prof = [i for i in range(len(words_list)) if words_list[i] in professions_list]"
   ]
  },
  {
   "cell_type": "code",
   "execution_count": 9,
   "metadata": {},
   "outputs": [
    {
     "data": {
      "text/plain": [
       "(459, 300)"
      ]
     },
     "execution_count": 9,
     "metadata": {},
     "output_type": "execute_result"
    }
   ],
   "source": [
    "# create P matrix of vectors for the professions\n",
    "P = E[ind_prof,:]\n",
    "\n",
    "# check the shape of P \n",
    "P.shape"
   ]
  },
  {
   "cell_type": "code",
   "execution_count": 10,
   "metadata": {},
   "outputs": [
    {
     "name": "stdout",
     "output_type": "stream",
     "text": [
      "[2.41463988 2.04141369 1.96470187 1.89613182 1.73493755 1.56332096\n",
      " 1.53138261 1.49973152 1.412821   1.34707082]\n"
     ]
    }
   ],
   "source": [
    "# try to use male-female word pairs to get gender axis\n",
    "# open and preprocess word pairs\n",
    "with open('word_pairs.txt','r', encoding = 'utf-8') as of:\n",
    "    word_pairs = of.readlines()\n",
    "    \n",
    "for i in range(len(word_pairs)):\n",
    "    word_pairs[i] = word_pairs[i].strip()\n",
    "word_pairs[0] = 'мужчина_NOUN'   \n",
    "    \n",
    "# find the indexes of these word pairs in the embedding matrix\n",
    "ind_nouns = []\n",
    "for i in range(len(words_list)):\n",
    "    for elem in word_pairs:        \n",
    "        if elem == words_list[i]:\n",
    "            ind_nouns.append(i)\n",
    "            \n",
    "# separate indexes for male and female nouns\n",
    "ind_male_noun = []\n",
    "ind_female_noun = []\n",
    "for i in range(len(ind_nouns)):\n",
    "    if i % 2 == 0:\n",
    "        ind_male_noun.append(ind_nouns[i])\n",
    "    if i % 2 != 0:\n",
    "        ind_female_noun.append(ind_nouns[i])\n",
    "        \n",
    "# make male and female matrix\n",
    "male_matrix = E[ind_male_noun,:]\n",
    "female_matrix = E[ind_female_noun,:]\n",
    "\n",
    "# find the difference matrix (for the gender axis) and the use PCA to find the main principle component\n",
    "from sklearn.decomposition import PCA\n",
    "\n",
    "difference_matrix = male_matrix - female_matrix\n",
    "pca = PCA(n_components = 10)\n",
    "pca_forprojection = pca.fit(difference_matrix)\n",
    "gender_axis_pca = pca_forprojection.components_[0]\n",
    "\n",
    "# check the singular value decay\n",
    "singular_values = pca_forprojection.singular_values_\n",
    "print(singular_values)\n",
    "# the singular value decay is not good, so we will use just man-woman vector for gender axis"
   ]
  },
  {
   "cell_type": "code",
   "execution_count": 11,
   "metadata": {},
   "outputs": [],
   "source": [
    "# find vectors for мужчина и женщина\n",
    "ind_man = words_list.index('мужчина_NOUN')\n",
    "ind_woman = words_list.index('женщина_NOUN')\n",
    "\n",
    "man = E[ind_man, :]\n",
    "woman = E[ind_woman, :]\n",
    "# b vector is gender axis\n",
    "b = man - woman"
   ]
  },
  {
   "cell_type": "code",
   "execution_count": 12,
   "metadata": {},
   "outputs": [],
   "source": [
    "# find projections of professions onto gender axis\n",
    "\n",
    "def find_proj(P, b):\n",
    "    projections = []\n",
    "    gender_axis_norm = (b)/np.linalg.norm(b) # normalized gender axis\n",
    "\n",
    "    for i in range(P.shape[0]):\n",
    "        proj = np.dot(P[i,:], gender_axis_norm)\n",
    "        projections.append(proj)\n",
    "    return projections"
   ]
  },
  {
   "cell_type": "code",
   "execution_count": 14,
   "metadata": {},
   "outputs": [
    {
     "data": {
      "text/plain": [
       "Text(0.5, 0, '          <---- female                     ----> male')"
      ]
     },
     "execution_count": 14,
     "metadata": {},
     "output_type": "execute_result"
    },
    {
     "data": {
      "image/png": "[encoded data removed]",
      "text/plain": [
       "<Figure size 432x288 with 1 Axes>"
      ]
     },
     "metadata": {
      "needs_background": "light"
     },
     "output_type": "display_data"
    }
   ],
   "source": [
    "# plot distribution of projections\n",
    "\n",
    "projections = find_proj(P, b)\n",
    "\n",
    "plt.hist(projections)\n",
    "plt.title('Projections of professions onto man-woman direction', size =14 )\n",
    "plt.xlabel(' '*10 + '<---- female' + ' '*20 + ' ----> male', size = 14)\n"
   ]
  },
  {
   "cell_type": "code",
   "execution_count": 15,
   "metadata": {},
   "outputs": [],
   "source": [
    "# find the bounds for extreme professions\n",
    "right_bound = np.mean(projections) + 1.5*np.std(projections)\n",
    "left_bound = np.mean(projections) - 1*np.std(projections)"
   ]
  },
  {
   "cell_type": "code",
   "execution_count": 16,
   "metadata": {},
   "outputs": [],
   "source": [
    "# find and print the extreme professions for both male\n",
    "\n",
    "ind_var_male = []\n",
    "for i in range(len(projections)):\n",
    "    if projections[i] > right_bound:\n",
    "        ind_var_male.append(i)\n",
    "        \n",
    "#for i in ind_var_male:\n",
    " #   print(professions_list[i])"
   ]
  },
  {
   "cell_type": "code",
   "execution_count": 17,
   "metadata": {},
   "outputs": [],
   "source": [
    "# find the extreme professions for both male and female\n",
    "\n",
    "ind_var = []\n",
    "for i in range(len(projections)):\n",
    "    if projections[i] < left_bound or projections[i] >  right_bound:\n",
    "        ind_var.append(i)\n",
    "        \n",
    "#for i in ind_var:\n",
    " #   print(professions_list[i])"
   ]
  },
  {
   "cell_type": "code",
   "execution_count": 18,
   "metadata": {},
   "outputs": [],
   "source": [
    "# create file with selected extreme professions\n",
    "with open('professions_for_selection','w',encoding = 'utf-8') as of:\n",
    "    for i in ind_var:\n",
    "        of.write(professions_list[i] + '\\n')\n",
    "    of.close()\n",
    "    "
   ]
  },
  {
   "cell_type": "code",
   "execution_count": 19,
   "metadata": {},
   "outputs": [],
   "source": [
    "with open('professions_after_selection','r', encoding = 'utf-8') as of:\n",
    "    slist_rev = of.readlines()"
   ]
  },
  {
   "cell_type": "code",
   "execution_count": 20,
   "metadata": {},
   "outputs": [],
   "source": [
    "# list of professions after selection (63 professions)\n",
    "slist_rev = [slist_rev[i].strip() for i in range(len(slist_rev)-1)]"
   ]
  },
  {
   "cell_type": "code",
   "execution_count": 21,
   "metadata": {},
   "outputs": [
    {
     "data": {
      "text/plain": [
       "['художник_NOUN',\n",
       " 'врач_NOUN',\n",
       " 'командир_NOUN',\n",
       " 'директор_NOUN',\n",
       " 'учитель_NOUN',\n",
       " 'президент_NOUN',\n",
       " 'специалист_NOUN',\n",
       " 'сотрудник_NOUN',\n",
       " 'мастер_NOUN',\n",
       " 'инженер_NOUN',\n",
       " 'губернатор_NOUN',\n",
       " 'кандидат_NOUN',\n",
       " 'водитель_NOUN',\n",
       " 'сторож_NOUN',\n",
       " 'педагог_NOUN',\n",
       " 'организатор_NOUN',\n",
       " 'мэр_NOUN',\n",
       " 'наблюдатель_NOUN',\n",
       " 'повар_NOUN',\n",
       " 'тренер_NOUN',\n",
       " 'няня_NOUN',\n",
       " 'смотритель_NOUN',\n",
       " 'менеджер_NOUN',\n",
       " 'официант_NOUN',\n",
       " 'живописец_NOUN',\n",
       " 'бухгалтер_NOUN',\n",
       " 'фельдшер_NOUN',\n",
       " 'скульптор_NOUN',\n",
       " 'хранитель_NOUN',\n",
       " 'дилер_NOUN',\n",
       " 'почтальон_NOUN',\n",
       " 'продюсер_NOUN',\n",
       " 'ювелир_NOUN',\n",
       " 'библиотекарь_NOUN',\n",
       " 'декан_NOUN',\n",
       " 'кинорежиссер_NOUN',\n",
       " 'лаборант_NOUN',\n",
       " 'программист_NOUN',\n",
       " 'референт_NOUN',\n",
       " 'бармен_NOUN',\n",
       " 'реставратор_NOUN',\n",
       " 'корректор_NOUN',\n",
       " 'экспедитор_NOUN',\n",
       " 'швея_NOUN',\n",
       " 'брокер_NOUN',\n",
       " 'проректор_NOUN',\n",
       " 'балетмейстер_NOUN',\n",
       " 'метеоролог_NOUN',\n",
       " 'топограф_NOUN',\n",
       " 'пчеловод_NOUN',\n",
       " 'шеф-повар_NOUN',\n",
       " 'юрисконсульт_NOUN',\n",
       " 'гончар_NOUN',\n",
       " 'крупье_NOUN',\n",
       " 'ихтиолог_NOUN',\n",
       " 'библиограф_NOUN',\n",
       " 'риэлтер_NOUN',\n",
       " 'почвовед_NOUN',\n",
       " 'геохимик_NOUN',\n",
       " 'хормейстер_NOUN',\n",
       " 'букмекер_NOUN',\n",
       " 'шеф-редактор_NOUN',\n",
       " 'паспортист_NOUN']"
      ]
     },
     "execution_count": 21,
     "metadata": {},
     "output_type": "execute_result"
    }
   ],
   "source": [
    "slist_rev"
   ]
  },
  {
   "cell_type": "code",
   "execution_count": 22,
   "metadata": {},
   "outputs": [],
   "source": [
    "# indices in words_list of 63 chosen professions\n",
    "ind_prof_rev = [i for i in range(len(words_list)) if words_list[i] in slist_rev]                         "
   ]
  },
  {
   "cell_type": "code",
   "execution_count": 23,
   "metadata": {},
   "outputs": [],
   "source": [
    "# make A by deleting the extreme professions and man and woman vectors\n",
    "A = np.delete(E, ind_prof_rev+[ind_man]+[ind_woman], axis=0)"
   ]
  },
  {
   "cell_type": "code",
   "execution_count": 24,
   "metadata": {},
   "outputs": [
    {
     "data": {
      "text/plain": [
       "(195006, 300)"
      ]
     },
     "execution_count": 24,
     "metadata": {},
     "output_type": "execute_result"
    }
   ],
   "source": [
    "A.shape"
   ]
  },
  {
   "cell_type": "code",
   "execution_count": 25,
   "metadata": {},
   "outputs": [],
   "source": [
    "# make P out of the extreme professions\n",
    "P_rev= E[ind_prof_rev,:]"
   ]
  },
  {
   "cell_type": "code",
   "execution_count": 26,
   "metadata": {},
   "outputs": [
    {
     "data": {
      "text/plain": [
       "(63, 300)"
      ]
     },
     "execution_count": 26,
     "metadata": {},
     "output_type": "execute_result"
    }
   ],
   "source": [
    "P_rev.shape"
   ]
  },
  {
   "cell_type": "code",
   "execution_count": 24,
   "metadata": {},
   "outputs": [],
   "source": [
    "# SVD \n",
    "u, s, vt = np.linalg.svd(A, full_matrices = False)"
   ]
  },
  {
   "cell_type": "code",
   "execution_count": 25,
   "metadata": {},
   "outputs": [],
   "source": [
    "# save SVD matrices\n",
    "\n",
    "with open('matrix_s', 'wb') as f:\n",
    "        pickle.dump(s, f)\n",
    "        \n",
    "with open('matrix_vt', 'wb') as f:\n",
    "        pickle.dump(vt, f)"
   ]
  },
  {
   "cell_type": "code",
   "execution_count": 27,
   "metadata": {},
   "outputs": [],
   "source": [
    "#if you don't have memory for computing SVD you can load them\n",
    "with open('matrix_s', 'rb') as f:\n",
    "    s = pickle.load(f)\n",
    "\n",
    "with open('matrix_vt', 'rb') as f:\n",
    "    vt = pickle.load(f)"
   ]
  },
  {
   "cell_type": "code",
   "execution_count": 28,
   "metadata": {},
   "outputs": [],
   "source": [
    "# reshape B for optimization\n",
    "B_reshaped = b.reshape((1,300))"
   ]
  },
  {
   "cell_type": "code",
   "execution_count": 70,
   "metadata": {},
   "outputs": [
    {
     "name": "stdout",
     "output_type": "stream",
     "text": [
      "----------------------------------------------------------------------------\n",
      "\tSCS v1.2.6 - Splitting Conic Solver\n",
      "\t(c) Brendan O'Donoghue, Stanford University, 2012-2016\n",
      "----------------------------------------------------------------------------\n",
      "Lin-sys: sparse-indirect, nnz in A = 32715158, CG tol ~ 1/iter^(2.00)\n",
      "eps = 1.00e-03, alpha = 1.50, max_iters = 100, normalize = 1, scale = 1.00\n",
      "Variables n = 90004, constraints m = 135221\n",
      "Cones:\tsoc vars: 90071, soc blks: 4\n",
      "\tsd vars: 45150, sd blks: 1\n",
      "Setup time: 2.17e+00s\n",
      "----------------------------------------------------------------------------\n",
      " Iter | pri res | dua res | rel gap | pri obj | dua obj | kap/tau | time (s)\n",
      "----------------------------------------------------------------------------\n",
      "     0| 1.42e+00  1.37e+00  9.83e-01 -5.31e+01  4.98e+00  1.15e-14  2.49e+01 \n",
      "   100| 6.02e-03  3.79e-03  5.80e-03  2.05e-02  2.66e-02  3.36e-15  4.70e+02 \n",
      "----------------------------------------------------------------------------\n",
      "Status: Solved/Inaccurate\n",
      "Hit max_iters, solution may be inaccurate\n",
      "Timing: Solve time: 4.70e+02s\n",
      "\tLin-sys: avg # CG iterations: 45.11, avg solve time: 4.63e+00s\n",
      "\tCones: avg projection time: 1.13e-02s\n",
      "----------------------------------------------------------------------------\n",
      "Error metrics:\n",
      "dist(s, K) = 5.8009e-15, dist(y, K*) = 2.7756e-17, s'y/|s||y| = -7.8309e-17\n",
      "|Ax + s - b|_2 / (1 + |b|_2) = 6.0234e-03\n",
      "|A'y + c|_2 / (1 + |c|_2) = 3.7867e-03\n",
      "|c'x + b'y| / (1 + |c'x| + |b'y|) = 5.7957e-03\n",
      "----------------------------------------------------------------------------\n",
      "c'x = 0.0205, -b'y = 0.0266\n",
      "============================================================================\n"
     ]
    }
   ],
   "source": [
    "# OPTIMIZATION\n",
    "\n",
    "lam = 0.22\n",
    "S = np.diag(s)\n",
    "I = np.eye(300)\n",
    "\n",
    "X = cp.Variable((300,300))\n",
    "\n",
    "constraints = [X >> 0]\n",
    "\n",
    "obj = cp.Minimize(cp.norm((S* vt *(X - I)* vt.T* S), \"fro\")**2 + lam*(cp.norm(((P_rev * X) * B_reshaped.T), 'fro')**2))\n",
    "\n",
    "\n",
    "prob = cp.Problem(obj, constraints)\n",
    "result = prob.solve(solver = cp.SCS, max_iters = 100, verbose=True)"
   ]
  },
  {
   "cell_type": "code",
   "execution_count": 71,
   "metadata": {},
   "outputs": [],
   "source": [
    "X_res = X.value"
   ]
  },
  {
   "cell_type": "code",
   "execution_count": 72,
   "metadata": {},
   "outputs": [
    {
     "data": {
      "text/plain": [
       "0.020543191106941958"
      ]
     },
     "execution_count": 72,
     "metadata": {},
     "output_type": "execute_result"
    }
   ],
   "source": [
    "result"
   ]
  },
  {
   "cell_type": "code",
   "execution_count": 73,
   "metadata": {},
   "outputs": [],
   "source": [
    "#cholesky decompostion for finding transformation matrix T\n",
    "T = np.linalg.cholesky(X_res)   "
   ]
  },
  {
   "cell_type": "code",
   "execution_count": 75,
   "metadata": {},
   "outputs": [
    {
     "name": "stdout",
     "output_type": "stream",
     "text": [
      "standard derivation of extreme professions before transformation:  0.09\n",
      "standard derivation of extreme professions after transformation:  0.07\n"
     ]
    }
   ],
   "source": [
    "#result validation\n",
    "b_after_T = T.T @ b.T\n",
    "\n",
    "print('standard derivation of extreme professions before transformation: ', np.round(np.std(find_proj(P_rev, b)),2))\n",
    "print('standard derivation of extreme professions after transformation: ', np.round(np.std(find_proj(P_rev @ T, b_after_T)),2))"
   ]
  },
  {
   "cell_type": "code",
   "execution_count": 103,
   "metadata": {},
   "outputs": [],
   "source": [
    "# THE REST OF THE CODE IS FOR GRAPHS FOR THE PRESENTATION"
   ]
  },
  {
   "cell_type": "code",
   "execution_count": 76,
   "metadata": {},
   "outputs": [],
   "source": [
    "wforValid = ['губернатор_NOUN','менеджер_NOUN','шеф-повар_NOUN', 'повар_NOUN','библиотекарь_NOUN']"
   ]
  },
  {
   "cell_type": "code",
   "execution_count": 77,
   "metadata": {},
   "outputs": [],
   "source": [
    "ind_biased = [words_list.index(word) for word in wforValid]"
   ]
  },
  {
   "cell_type": "code",
   "execution_count": 78,
   "metadata": {},
   "outputs": [],
   "source": [
    "P_biased = E[ind_biased]"
   ]
  },
  {
   "cell_type": "code",
   "execution_count": 79,
   "metadata": {},
   "outputs": [],
   "source": [
    "projections_biased = find_proj(P_biased, b)"
   ]
  },
  {
   "cell_type": "code",
   "execution_count": 80,
   "metadata": {
    "scrolled": false
   },
   "outputs": [
    {
     "data": {
      "text/plain": [
       "[0.09399251928692344,\n",
       " 0.10277682969215785,\n",
       " 0.08744104518808557,\n",
       " -0.0988128927034217,\n",
       " -0.08984160394928666]"
      ]
     },
     "execution_count": 80,
     "metadata": {},
     "output_type": "execute_result"
    }
   ],
   "source": [
    "projections_biased"
   ]
  },
  {
   "cell_type": "code",
   "execution_count": 81,
   "metadata": {},
   "outputs": [],
   "source": [
    "ind_debiased = [slist_rev.index(word) for word in wforValid]"
   ]
  },
  {
   "cell_type": "code",
   "execution_count": 82,
   "metadata": {},
   "outputs": [],
   "source": [
    "P_debiased = (P_rev @ T)[ind_debiased]"
   ]
  },
  {
   "cell_type": "code",
   "execution_count": 83,
   "metadata": {},
   "outputs": [],
   "source": [
    "projections_debiased = find_proj(P_debiased, b_after_T)"
   ]
  },
  {
   "cell_type": "code",
   "execution_count": 84,
   "metadata": {},
   "outputs": [
    {
     "data": {
      "text/plain": [
       "[0.04466498095042286,\n",
       " 0.0761552406308034,\n",
       " 0.0669594054463353,\n",
       " -0.06367049640242514,\n",
       " -0.03820299507571048]"
      ]
     },
     "execution_count": 84,
     "metadata": {},
     "output_type": "execute_result"
    }
   ],
   "source": [
    "projections_debiased"
   ]
  }
 ],
 "metadata": {
  "kernelspec": {
   "display_name": "Python 3",
   "language": "python",
   "name": "python3"
  },
  "language_info": {
   "codemirror_mode": {
    "name": "ipython",
    "version": 3
   },
   "file_extension": ".py",
   "mimetype": "text/x-python",
   "name": "python",
   "nbconvert_exporter": "python",
   "pygments_lexer": "ipython3",
   "version": "3.6.7"
  }
 },
 "nbformat": 4,
 "nbformat_minor": 2
}
